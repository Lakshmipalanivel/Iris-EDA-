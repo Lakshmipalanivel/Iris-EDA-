{
 "cells": [
  {
   "cell_type": "code",
   "execution_count": 46,
   "id": "31bf135c",
   "metadata": {},
   "outputs": [],
   "source": [
    "import pandas as pd\n",
    "import numpy as np\n",
    "import seaborn as sns\n",
    "import matplotlib.pyplot as plt\n",
    "from scipy import stats\n",
    "import statsmodels.api as  sm\n",
    "from sklearn.model_selection import train_test_split\n",
    "from sklearn.linear_model import LinearRegression as LS\n",
    "from sklearn.metrics import mean_squared_error as mse\n",
    "from sklearn.linear_model import LinearRegression\n",
    "from sklearn.ensemble import GradientBoostingRegressor\n",
    "from sklearn.ensemble import RandomForestRegressor\n",
    "from sklearn.tree import DecisionTreeRegressor\n",
    "from sklearn.metrics import mean_squared_error\n"
   ]
  },
  {
   "cell_type": "code",
   "execution_count": 47,
   "id": "13815e51",
   "metadata": {},
   "outputs": [],
   "source": [
    "data=pd.read_csv(\"https://gist.githubusercontent.com/netj/8836201/raw/6f9306ad21398ea43cba4f7d537619d0e07d5ae3/iris.csv\")"
   ]
  },
  {
   "cell_type": "code",
   "execution_count": 48,
   "id": "22fe617b",
   "metadata": {},
   "outputs": [
    {
     "data": {
      "text/html": [
       "<div>\n",
       "<style scoped>\n",
       "    .dataframe tbody tr th:only-of-type {\n",
       "        vertical-align: middle;\n",
       "    }\n",
       "\n",
       "    .dataframe tbody tr th {\n",
       "        vertical-align: top;\n",
       "    }\n",
       "\n",
       "    .dataframe thead th {\n",
       "        text-align: right;\n",
       "    }\n",
       "</style>\n",
       "<table border=\"1\" class=\"dataframe\">\n",
       "  <thead>\n",
       "    <tr style=\"text-align: right;\">\n",
       "      <th></th>\n",
       "      <th>sepal.length</th>\n",
       "      <th>sepal.width</th>\n",
       "      <th>petal.length</th>\n",
       "      <th>petal.width</th>\n",
       "      <th>variety</th>\n",
       "    </tr>\n",
       "  </thead>\n",
       "  <tbody>\n",
       "    <tr>\n",
       "      <th>0</th>\n",
       "      <td>5.1</td>\n",
       "      <td>3.5</td>\n",
       "      <td>1.4</td>\n",
       "      <td>0.2</td>\n",
       "      <td>Setosa</td>\n",
       "    </tr>\n",
       "    <tr>\n",
       "      <th>1</th>\n",
       "      <td>4.9</td>\n",
       "      <td>3.0</td>\n",
       "      <td>1.4</td>\n",
       "      <td>0.2</td>\n",
       "      <td>Setosa</td>\n",
       "    </tr>\n",
       "    <tr>\n",
       "      <th>2</th>\n",
       "      <td>4.7</td>\n",
       "      <td>3.2</td>\n",
       "      <td>1.3</td>\n",
       "      <td>0.2</td>\n",
       "      <td>Setosa</td>\n",
       "    </tr>\n",
       "    <tr>\n",
       "      <th>3</th>\n",
       "      <td>4.6</td>\n",
       "      <td>3.1</td>\n",
       "      <td>1.5</td>\n",
       "      <td>0.2</td>\n",
       "      <td>Setosa</td>\n",
       "    </tr>\n",
       "    <tr>\n",
       "      <th>4</th>\n",
       "      <td>5.0</td>\n",
       "      <td>3.6</td>\n",
       "      <td>1.4</td>\n",
       "      <td>0.2</td>\n",
       "      <td>Setosa</td>\n",
       "    </tr>\n",
       "    <tr>\n",
       "      <th>5</th>\n",
       "      <td>5.4</td>\n",
       "      <td>3.9</td>\n",
       "      <td>1.7</td>\n",
       "      <td>0.4</td>\n",
       "      <td>Setosa</td>\n",
       "    </tr>\n",
       "    <tr>\n",
       "      <th>6</th>\n",
       "      <td>4.6</td>\n",
       "      <td>3.4</td>\n",
       "      <td>1.4</td>\n",
       "      <td>0.3</td>\n",
       "      <td>Setosa</td>\n",
       "    </tr>\n",
       "    <tr>\n",
       "      <th>7</th>\n",
       "      <td>5.0</td>\n",
       "      <td>3.4</td>\n",
       "      <td>1.5</td>\n",
       "      <td>0.2</td>\n",
       "      <td>Setosa</td>\n",
       "    </tr>\n",
       "    <tr>\n",
       "      <th>8</th>\n",
       "      <td>4.4</td>\n",
       "      <td>2.9</td>\n",
       "      <td>1.4</td>\n",
       "      <td>0.2</td>\n",
       "      <td>Setosa</td>\n",
       "    </tr>\n",
       "    <tr>\n",
       "      <th>9</th>\n",
       "      <td>4.9</td>\n",
       "      <td>3.1</td>\n",
       "      <td>1.5</td>\n",
       "      <td>0.1</td>\n",
       "      <td>Setosa</td>\n",
       "    </tr>\n",
       "  </tbody>\n",
       "</table>\n",
       "</div>"
      ],
      "text/plain": [
       "   sepal.length  sepal.width  petal.length  petal.width variety\n",
       "0           5.1          3.5           1.4          0.2  Setosa\n",
       "1           4.9          3.0           1.4          0.2  Setosa\n",
       "2           4.7          3.2           1.3          0.2  Setosa\n",
       "3           4.6          3.1           1.5          0.2  Setosa\n",
       "4           5.0          3.6           1.4          0.2  Setosa\n",
       "5           5.4          3.9           1.7          0.4  Setosa\n",
       "6           4.6          3.4           1.4          0.3  Setosa\n",
       "7           5.0          3.4           1.5          0.2  Setosa\n",
       "8           4.4          2.9           1.4          0.2  Setosa\n",
       "9           4.9          3.1           1.5          0.1  Setosa"
      ]
     },
     "execution_count": 48,
     "metadata": {},
     "output_type": "execute_result"
    }
   ],
   "source": [
    "data.head(10)"
   ]
  },
  {
   "cell_type": "code",
   "execution_count": 49,
   "id": "c5a7291b",
   "metadata": {},
   "outputs": [],
   "source": [
    "x=data[[\"sepal.length\",\"sepal.width\",\"petal.length\",\"petal.width\"]]\n",
    "y=data[[\"variety\"]]"
   ]
  },
  {
   "cell_type": "code",
   "execution_count": 50,
   "id": "aa5ba812",
   "metadata": {},
   "outputs": [],
   "source": [
    "x_train,x_test,y_train,y_test=train_test_split(x,y,test_size=0.2,random_state=100)"
   ]
  },
  {
   "cell_type": "code",
   "execution_count": 51,
   "id": "46dca072",
   "metadata": {},
   "outputs": [
    {
     "name": "stderr",
     "output_type": "stream",
     "text": [
      "C:\\Users\\hp\\anaconda3\\lib\\site-packages\\sklearn\\utils\\validation.py:63: DataConversionWarning: A column-vector y was passed when a 1d array was expected. Please change the shape of y to (n_samples, ), for example using ravel().\n",
      "  return f(*args, **kwargs)\n"
     ]
    },
    {
     "data": {
      "text/plain": [
       "1.0"
      ]
     },
     "execution_count": 51,
     "metadata": {},
     "output_type": "execute_result"
    }
   ],
   "source": [
    "from sklearn import svm\n",
    "clf = svm.SVC(kernel='linear') #linear kernel\n",
    "clf.fit(x_train,y_train)\n",
    "clf.score(x_test,y_test)"
   ]
  },
  {
   "cell_type": "code",
   "execution_count": 52,
   "id": "40b8fa59",
   "metadata": {},
   "outputs": [],
   "source": [
    "y_pred= clf.predict(x_test)  "
   ]
  },
  {
   "cell_type": "code",
   "execution_count": 53,
   "id": "87081f4b",
   "metadata": {},
   "outputs": [
    {
     "data": {
      "text/plain": [
       "1.0"
      ]
     },
     "execution_count": 53,
     "metadata": {},
     "output_type": "execute_result"
    }
   ],
   "source": [
    "from sklearn import metrics\n",
    "metrics.accuracy_score(y_test, y_pred)"
   ]
  },
  {
   "cell_type": "markdown",
   "id": "cbda049c",
   "metadata": {},
   "source": [
    "<h1>KNN</h2>"
   ]
  },
  {
   "cell_type": "code",
   "execution_count": 9,
   "id": "c91b43ca",
   "metadata": {},
   "outputs": [
    {
     "name": "stderr",
     "output_type": "stream",
     "text": [
      "C:\\Users\\hp\\anaconda3\\lib\\site-packages\\sklearn\\neighbors\\_classification.py:179: DataConversionWarning: A column-vector y was passed when a 1d array was expected. Please change the shape of y to (n_samples,), for example using ravel().\n",
      "  return self._fit(X, y)\n"
     ]
    },
    {
     "data": {
      "text/plain": [
       "KNeighborsClassifier()"
      ]
     },
     "execution_count": 9,
     "metadata": {},
     "output_type": "execute_result"
    }
   ],
   "source": [
    "from sklearn.neighbors import KNeighborsClassifier  \n",
    "classifier= KNeighborsClassifier(n_neighbors=5, metric='minkowski', p=2 )  \n",
    "classifier.fit(x_train, y_train) "
   ]
  },
  {
   "cell_type": "code",
   "execution_count": 10,
   "id": "a71a3c6d",
   "metadata": {},
   "outputs": [
    {
     "data": {
      "text/plain": [
       "1.0"
      ]
     },
     "execution_count": 10,
     "metadata": {},
     "output_type": "execute_result"
    }
   ],
   "source": [
    "y_pred= classifier.predict(x_test) \n",
    "classifier.score(x_test,y_test)"
   ]
  },
  {
   "cell_type": "code",
   "execution_count": 11,
   "id": "e6f0810a",
   "metadata": {
    "scrolled": true
   },
   "outputs": [
    {
     "data": {
      "text/plain": [
       "1.0"
      ]
     },
     "execution_count": 11,
     "metadata": {},
     "output_type": "execute_result"
    }
   ],
   "source": [
    "metrics.accuracy_score(y_test,y_pred)"
   ]
  },
  {
   "cell_type": "code",
   "execution_count": 15,
   "id": "10d98964",
   "metadata": {},
   "outputs": [
    {
     "name": "stderr",
     "output_type": "stream",
     "text": [
      "C:\\Users\\hp\\anaconda3\\lib\\site-packages\\sklearn\\neighbors\\_classification.py:179: DataConversionWarning: A column-vector y was passed when a 1d array was expected. Please change the shape of y to (n_samples,), for example using ravel().\n",
      "  return self._fit(X, y)\n"
     ]
    },
    {
     "data": {
      "text/plain": [
       "KNeighborsClassifier()"
      ]
     },
     "execution_count": 15,
     "metadata": {},
     "output_type": "execute_result"
    }
   ],
   "source": [
    "from sklearn.neighbors import KNeighborsClassifier  \n",
    "classifier= KNeighborsClassifier(n_neighbors=5, metric='minkowski', p=2 )  \n",
    "classifier.fit(x_train,y_train)"
   ]
  },
  {
   "cell_type": "code",
   "execution_count": 19,
   "id": "7eb1adc0",
   "metadata": {},
   "outputs": [],
   "source": [
    "from keras.models import Sequential"
   ]
  },
  {
   "cell_type": "code",
   "execution_count": 20,
   "id": "72f3ffbd",
   "metadata": {},
   "outputs": [],
   "source": [
    "from keras.layers import Dense"
   ]
  },
  {
   "cell_type": "code",
   "execution_count": 27,
   "id": "8c9216de",
   "metadata": {},
   "outputs": [],
   "source": [
    "from tensorflow.keras import layers"
   ]
  },
  {
   "cell_type": "code",
   "execution_count": 33,
   "id": "d32c9430",
   "metadata": {},
   "outputs": [],
   "source": [
    "from sklearn import preprocessing\n",
    "le = preprocessing.LabelEncoder()"
   ]
  },
  {
   "cell_type": "code",
   "execution_count": 39,
   "id": "557691a3",
   "metadata": {},
   "outputs": [
    {
     "name": "stderr",
     "output_type": "stream",
     "text": [
      "C:\\Users\\hp\\anaconda3\\lib\\site-packages\\sklearn\\utils\\validation.py:63: DataConversionWarning: A column-vector y was passed when a 1d array was expected. Please change the shape of y to (n_samples, ), for example using ravel().\n",
      "  return f(*args, **kwargs)\n"
     ]
    }
   ],
   "source": [
    "y=le.fit_transform(y)"
   ]
  },
  {
   "cell_type": "code",
   "execution_count": 40,
   "id": "3ee78a75",
   "metadata": {},
   "outputs": [],
   "source": [
    "model=Sequential()\n",
    "model.add(layers.Dense(8,input_dim=4,activation='relu'))\n",
    "model.add(layers.Dense(32,activation='relu'))\n",
    "model.add(layers.Dense(3,activation='relu'))\n",
    "model.compile(loss='binary_crossentropy',optimizer='adam',metrics=['accuracy'])\n"
   ]
  },
  {
   "cell_type": "code",
   "execution_count": 41,
   "id": "1eeae867",
   "metadata": {},
   "outputs": [
    {
     "name": "stdout",
     "output_type": "stream",
     "text": [
      "Epoch 1/50\n",
      "5/5 [==============================] - 2s 56ms/step - loss: 3.8873 - accuracy: 0.3333\n",
      "Epoch 2/50\n",
      "5/5 [==============================] - 0s 4ms/step - loss: 3.5244 - accuracy: 0.3267\n",
      "Epoch 3/50\n",
      "5/5 [==============================] - 0s 5ms/step - loss: 2.7095 - accuracy: 0.3267\n",
      "Epoch 4/50\n",
      "5/5 [==============================] - 0s 5ms/step - loss: 1.9697 - accuracy: 0.2600\n",
      "Epoch 5/50\n",
      "5/5 [==============================] - 0s 2ms/step - loss: 1.9192 - accuracy: 0.1800\n",
      "Epoch 6/50\n",
      "5/5 [==============================] - 0s 4ms/step - loss: 1.8770 - accuracy: 0.1733\n",
      "Epoch 7/50\n",
      "5/5 [==============================] - 0s 2ms/step - loss: 1.8594 - accuracy: 0.2133\n",
      "Epoch 8/50\n",
      "5/5 [==============================] - 0s 2ms/step - loss: 1.8426 - accuracy: 0.2600\n",
      "Epoch 9/50\n",
      "5/5 [==============================] - 0s 4ms/step - loss: 1.8280 - accuracy: 0.3067\n",
      "Epoch 10/50\n",
      "5/5 [==============================] - 0s 2ms/step - loss: 1.8149 - accuracy: 0.3467\n",
      "Epoch 11/50\n",
      "5/5 [==============================] - 0s 2ms/step - loss: 1.8021 - accuracy: 0.3667\n",
      "Epoch 12/50\n",
      "5/5 [==============================] - 0s 6ms/step - loss: 1.7924 - accuracy: 0.3733\n",
      "Epoch 13/50\n",
      "5/5 [==============================] - 0s 4ms/step - loss: 1.7829 - accuracy: 0.3600\n",
      "Epoch 14/50\n",
      "5/5 [==============================] - 0s 4ms/step - loss: 1.7753 - accuracy: 0.3400\n",
      "Epoch 15/50\n",
      "5/5 [==============================] - 0s 2ms/step - loss: 1.7699 - accuracy: 0.3133\n",
      "Epoch 16/50\n",
      "5/5 [==============================] - 0s 6ms/step - loss: 1.7662 - accuracy: 0.3267\n",
      "Epoch 17/50\n",
      "5/5 [==============================] - 0s 2ms/step - loss: 1.7637 - accuracy: 0.2867\n",
      "Epoch 18/50\n",
      "5/5 [==============================] - 0s 5ms/step - loss: 1.7615 - accuracy: 0.2667\n",
      "Epoch 19/50\n",
      "5/5 [==============================] - 0s 3ms/step - loss: 1.7601 - accuracy: 0.2600\n",
      "Epoch 20/50\n",
      "5/5 [==============================] - 0s 2ms/step - loss: 1.7592 - accuracy: 0.2667\n",
      "Epoch 21/50\n",
      "5/5 [==============================] - 0s 4ms/step - loss: 1.7585 - accuracy: 0.2733\n",
      "Epoch 22/50\n",
      "5/5 [==============================] - 0s 3ms/step - loss: 1.7581 - accuracy: 0.3067\n",
      "Epoch 23/50\n",
      "5/5 [==============================] - 0s 2ms/step - loss: 1.7576 - accuracy: 0.3067\n",
      "Epoch 24/50\n",
      "5/5 [==============================] - 0s 3ms/step - loss: 1.7573 - accuracy: 0.3133\n",
      "Epoch 25/50\n",
      "5/5 [==============================] - 0s 5ms/step - loss: 1.7571 - accuracy: 0.3133\n",
      "Epoch 26/50\n",
      "5/5 [==============================] - 0s 4ms/step - loss: 1.7569 - accuracy: 0.3133\n",
      "Epoch 27/50\n",
      "5/5 [==============================] - 0s 4ms/step - loss: 1.7568 - accuracy: 0.3133\n",
      "Epoch 28/50\n",
      "5/5 [==============================] - 0s 4ms/step - loss: 1.7565 - accuracy: 0.3133\n",
      "Epoch 29/50\n",
      "5/5 [==============================] - 0s 6ms/step - loss: 1.7564 - accuracy: 0.3133\n",
      "Epoch 30/50\n",
      "5/5 [==============================] - 0s 6ms/step - loss: 1.7562 - accuracy: 0.3133\n",
      "Epoch 31/50\n",
      "5/5 [==============================] - 0s 3ms/step - loss: 1.7561 - accuracy: 0.3133\n",
      "Epoch 32/50\n",
      "5/5 [==============================] - 0s 2ms/step - loss: 1.7560 - accuracy: 0.3133\n",
      "Epoch 33/50\n",
      "5/5 [==============================] - 0s 4ms/step - loss: 1.7558 - accuracy: 0.3133\n",
      "Epoch 34/50\n",
      "5/5 [==============================] - 0s 4ms/step - loss: 1.7557 - accuracy: 0.3133\n",
      "Epoch 35/50\n",
      "5/5 [==============================] - 0s 4ms/step - loss: 1.7556 - accuracy: 0.3133\n",
      "Epoch 36/50\n",
      "5/5 [==============================] - 0s 5ms/step - loss: 1.7555 - accuracy: 0.3133\n",
      "Epoch 37/50\n",
      "5/5 [==============================] - 0s 5ms/step - loss: 1.7554 - accuracy: 0.3133\n",
      "Epoch 38/50\n",
      "5/5 [==============================] - 0s 3ms/step - loss: 1.7554 - accuracy: 0.3133\n",
      "Epoch 39/50\n",
      "5/5 [==============================] - 0s 2ms/step - loss: 1.7552 - accuracy: 0.3133\n",
      "Epoch 40/50\n",
      "5/5 [==============================] - 0s 5ms/step - loss: 1.7552 - accuracy: 0.3133\n",
      "Epoch 41/50\n",
      "5/5 [==============================] - 0s 2ms/step - loss: 1.7551 - accuracy: 0.3133\n",
      "Epoch 42/50\n",
      "5/5 [==============================] - 0s 4ms/step - loss: 1.7550 - accuracy: 0.3133\n",
      "Epoch 43/50\n",
      "5/5 [==============================] - 0s 3ms/step - loss: 1.7550 - accuracy: 0.3133\n",
      "Epoch 44/50\n",
      "5/5 [==============================] - 0s 5ms/step - loss: 1.7549 - accuracy: 0.3133\n",
      "Epoch 45/50\n",
      "5/5 [==============================] - 0s 2ms/step - loss: 1.7549 - accuracy: 0.3133\n",
      "Epoch 46/50\n",
      "5/5 [==============================] - 0s 3ms/step - loss: 1.7548 - accuracy: 0.3200\n",
      "Epoch 47/50\n",
      "5/5 [==============================] - 0s 2ms/step - loss: 1.7548 - accuracy: 0.3267\n",
      "Epoch 48/50\n",
      "5/5 [==============================] - 0s 4ms/step - loss: 1.7547 - accuracy: 0.3267\n",
      "Epoch 49/50\n",
      "5/5 [==============================] - 0s 4ms/step - loss: 1.7547 - accuracy: 0.3267\n",
      "Epoch 50/50\n",
      "5/5 [==============================] - 0s 5ms/step - loss: 1.7547 - accuracy: 0.3267\n"
     ]
    },
    {
     "data": {
      "text/plain": [
       "<keras.callbacks.History at 0x20dcc8ee3a0>"
      ]
     },
     "execution_count": 41,
     "metadata": {},
     "output_type": "execute_result"
    }
   ],
   "source": [
    "model.fit(x,y,epochs=50)"
   ]
  },
  {
   "cell_type": "code",
   "execution_count": 45,
   "id": "4b92ff88",
   "metadata": {},
   "outputs": [
    {
     "name": "stdout",
     "output_type": "stream",
     "text": [
      "5/5 [==============================] - 0s 7ms/step - loss: 1.7546 - accuracy: 0.3267\n"
     ]
    },
    {
     "data": {
      "text/plain": [
       "[1.7546268701553345, 0.3266666531562805]"
      ]
     },
     "execution_count": 45,
     "metadata": {},
     "output_type": "execute_result"
    }
   ],
   "source": [
    "model.evaluate(x,y)"
   ]
  },
  {
   "cell_type": "code",
   "execution_count": null,
   "id": "089749d7",
   "metadata": {},
   "outputs": [],
   "source": []
  }
 ],
 "metadata": {
  "kernelspec": {
   "display_name": "Python 3 (ipykernel)",
   "language": "python",
   "name": "python3"
  },
  "language_info": {
   "codemirror_mode": {
    "name": "ipython",
    "version": 3
   },
   "file_extension": ".py",
   "mimetype": "text/x-python",
   "name": "python",
   "nbconvert_exporter": "python",
   "pygments_lexer": "ipython3",
   "version": "3.9.7"
  }
 },
 "nbformat": 4,
 "nbformat_minor": 5
}
